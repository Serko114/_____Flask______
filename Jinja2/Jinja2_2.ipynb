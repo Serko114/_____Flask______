{
 "cells": [
  {
   "cell_type": "markdown",
   "metadata": {},
   "source": [
    "# **1. Экранирование имен и html-ссылок**"
   ]
  },
  {
   "cell_type": "code",
   "execution_count": 1,
   "metadata": {},
   "outputs": [
    {
     "name": "stdout",
     "output_type": "stream",
     "text": [
      "Мне кажется, что\n",
      "Маркус придет только завтра\n"
     ]
    }
   ],
   "source": [
    "# подается на вход типа словаря\n",
    "from jinja2 import Template\n",
    "#------------------------------------\n",
    "text = '''Мне кажется, что\n",
    "{{ name }} придет только завтра'''\n",
    "\n",
    "tm = Template(text)\n",
    "msg = tm.render(name = \"Маркус\")\n",
    "\n",
    "print(msg)"
   ]
  },
  {
   "cell_type": "code",
   "execution_count": 1,
   "metadata": {},
   "outputs": [
    {
     "name": "stdout",
     "output_type": "stream",
     "text": [
      "Мне кажется, что\n",
      "{{ name }} придет только завтра\n"
     ]
    }
   ],
   "source": [
    "# экранирование текста с помощью {% raw %} и {% endraw %}\n",
    "from jinja2 import Template\n",
    "#------------------------------------\n",
    "text = '''{% raw %}Мне кажется, что\n",
    "{{ name }} придет только завтра{% endraw %}'''\n",
    "\n",
    "tm = Template(text)\n",
    "msg = tm.render(name = \"Маркус\")\n",
    "\n",
    "print(msg)"
   ]
  },
  {
   "cell_type": "code",
   "execution_count": null,
   "metadata": {},
   "outputs": [
    {
     "name": "stdout",
     "output_type": "stream",
     "text": [
      "HTML-ссылка\n",
      "               &lt;a href=&#34;#&#34;&gt;Ссылка&lt;/a&gt;\n"
     ]
    }
   ],
   "source": [
    "# экранирование HTML-ссылки\n",
    "# e - escape (экранирование)\n",
    "from jinja2 import Template\n",
    "#------------------------------------\n",
    "link = '''HTML-ссылка\n",
    "               <a href=\"#\">Ссылка</a>'''\n",
    "\n",
    "tm = Template('{{ link | e}}')\n",
    "msg = tm.render(link=link)\n",
    "\n",
    "print(msg)\n",
    "# на выходе здесь ссылка будет как текст в html-файле"
   ]
  },
  {
   "cell_type": "code",
   "execution_count": null,
   "metadata": {},
   "outputs": [],
   "source": [
    "# экранирование по простой схеме, использование класса escape\n",
    "from jinja2 import Template, escape\n",
    "#------------------------------------\n",
    "link = '''HTML-ссылка\n",
    "               <a href=\"#\">Ссылка</a>'''\n",
    "               \n",
    "tm = escape(link)\n",
    "print(tm)\n",
    "\n",
    "# модуль escape  в новых версиях не поддерживается\n"
   ]
  },
  {
   "cell_type": "markdown",
   "metadata": {},
   "source": [
    "# **2. Цикл for**"
   ]
  },
  {
   "cell_type": "code",
   "execution_count": null,
   "metadata": {},
   "outputs": [
    {
     "name": "stdout",
     "output_type": "stream",
     "text": [
      "<select name=\"cities\">\n",
      "<options value=\"\">Moscow</option>\n",
      "<options value=\"\">Kiev</option>\n",
      "\n",
      "</select>\n"
     ]
    }
   ],
   "source": [
    "from jinja2 import Template\n",
    "#------------------------------------\n",
    "cities = [{id:1, 'city':'Moscow'},\n",
    "          {id:2, 'city':'Kiev'},]\n",
    "\n",
    "\n",
    "link = '''<select name=\"cities\">\n",
    "{% for c in cities -%}\n",
    "    <options value=\"{{c['id']}}\">{{c['city']}}</option>\n",
    "{% endfor %}\n",
    "</select>'''\n",
    "# минус перед процентом выводит код в каждой строке\n",
    "\n",
    "tm = Template(link)\n",
    "\n",
    "msg = tm.render(cities=cities)\n",
    "\n",
    "print(msg)"
   ]
  },
  {
   "cell_type": "markdown",
   "metadata": {},
   "source": [
    "# **2. Цикл if**"
   ]
  },
  {
   "cell_type": "code",
   "execution_count": 17,
   "metadata": {},
   "outputs": [
    {
     "name": "stdout",
     "output_type": "stream",
     "text": [
      "<select name=\"cities\">\n",
      "Moscow\n",
      "\n",
      "<options value=\"2\">Kiev</option>\n",
      "\n",
      "<options value=\"3\">Tver</option>\n",
      "\n",
      "<options value=\"4\">Lvov</option>\n",
      "\n",
      "\n",
      "</select>\n"
     ]
    }
   ],
   "source": [
    "from jinja2 import Template\n",
    "#------------------------------------\n",
    "cities = [{'id':1, 'city':'Moscow'},\n",
    "          {'id':2, 'city':'Kiev'},\n",
    "          {'id':3, 'city':'Tver'},\n",
    "          {'id':4, 'city':'Lvov'},]\n",
    "\n",
    "\n",
    "link = '''<select name=\"cities\">\n",
    "{% for c in cities -%}\n",
    "{% if c.id > 1 -%}\n",
    "    <options value=\"{{c['id']}}\">{{c['city']}}</option>\n",
    "{% elif c.id == \"Tver\" -%}\n",
    "    </option>{{c['city']}}</option>\n",
    "{% else -%}\n",
    "    {{c['city']}}\n",
    "{% endif %}\n",
    "{% endfor %}\n",
    "</select>'''\n",
    "# минус перед процентом выводит код в каждой строке\n",
    "\n",
    "tm = Template(link)\n",
    "\n",
    "msg = tm.render(cities=cities)\n",
    "\n",
    "print(msg)"
   ]
  }
 ],
 "metadata": {
  "kernelspec": {
   "display_name": "Python 3",
   "language": "python",
   "name": "python3"
  },
  "language_info": {
   "codemirror_mode": {
    "name": "ipython",
    "version": 3
   },
   "file_extension": ".py",
   "mimetype": "text/x-python",
   "name": "python",
   "nbconvert_exporter": "python",
   "pygments_lexer": "ipython3",
   "version": "3.11.10"
  }
 },
 "nbformat": 4,
 "nbformat_minor": 2
}

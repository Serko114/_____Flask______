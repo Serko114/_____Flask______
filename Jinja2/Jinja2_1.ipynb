{
 "cells": [
  {
   "cell_type": "markdown",
   "metadata": {},
   "source": [
    "{%%} - спецификатор шаблона\n",
    "{{}} - выражение для вставки конструкций python в шаблон\n",
    "{##} - блок комметрариев\n",
    "# ## -строковый комментарий"
   ]
  },
  {
   "cell_type": "code",
   "execution_count": 7,
   "metadata": {},
   "outputs": [
    {
     "name": "stdout",
     "output_type": "stream",
     "text": [
      "Мне 44 и зовут меня Костя\n"
     ]
    }
   ],
   "source": [
    "# подается на вход типа словаря\n",
    "from jinja2 import Template\n",
    "#------------------------------------\n",
    "name = \"Костя\"\n",
    "age = 44\n",
    "\n",
    "tm = Template(\"Мне {{ a }} и зовут меня {{ n }}\")\n",
    "msg = tm.render(a = age, n = name)\n",
    "\n",
    "print(msg)"
   ]
  },
  {
   "cell_type": "code",
   "execution_count": 6,
   "metadata": {},
   "outputs": [
    {
     "name": "stdout",
     "output_type": "stream",
     "text": [
      "Мне 88 и зовут меня КОСТЯН\n"
     ]
    }
   ],
   "source": [
    "# подается на вход типа словаря + какие-то опреации с данными\n",
    "from jinja2 import Template\n",
    "#------------------------------------\n",
    "name = \"Костян\"\n",
    "age = 44\n",
    "\n",
    "tm = Template(\"Мне {{ a*2 }} и зовут меня {{ n.upper() }}\")\n",
    "msg = tm.render(a = age, n = name)\n",
    "\n",
    "print(msg)"
   ]
  },
  {
   "cell_type": "code",
   "execution_count": 9,
   "metadata": {},
   "outputs": [
    {
     "name": "stdout",
     "output_type": "stream",
     "text": [
      "Мне 5 лет и зовут меня МАРКУС\n"
     ]
    }
   ],
   "source": [
    "# подается на вход классс\n",
    "from jinja2 import Template\n",
    "#------------------------------------\n",
    "class Person:\n",
    "    def __init__(self, name, age):\n",
    "        self.name = name\n",
    "        self.age = age\n",
    "        \n",
    "per = Person(\"Маркус\", 5)\n",
    "\n",
    "\n",
    "tm = Template(\"Мне {{ p.age }} лет и зовут меня {{ p.name.upper() }}\")\n",
    "msg = tm.render(p = per)\n",
    "\n",
    "print(msg)"
   ]
  },
  {
   "cell_type": "code",
   "execution_count": 11,
   "metadata": {},
   "outputs": [
    {
     "name": "stdout",
     "output_type": "stream",
     "text": [
      "Мне 5 лет и зовут меня Маркус\n"
     ]
    }
   ],
   "source": [
    "# подается на вход классс, но имена и возраст в разных функциях\n",
    "# подается на вход классс\n",
    "from jinja2 import Template\n",
    "#------------------------------------\n",
    "class Person:\n",
    "    def __init__(self, name, age):\n",
    "        self.name = name\n",
    "        self.age = age\n",
    "        \n",
    "    def getName(self):\n",
    "        return self.name\n",
    "    \n",
    "    def getAge(self):\n",
    "        return self.age\n",
    "        \n",
    "per = Person(\"Маркус\", 5)\n",
    "\n",
    "\n",
    "tm = Template(\"Мне {{ p.getAge() }} лет и зовут меня {{ p.getName() }}\")\n",
    "msg = tm.render(p = per)\n",
    "\n",
    "print(msg)\n"
   ]
  },
  {
   "cell_type": "code",
   "execution_count": 14,
   "metadata": {},
   "outputs": [
    {
     "name": "stdout",
     "output_type": "stream",
     "text": [
      "Мне 5 лет и зовут меня Маркус\n"
     ]
    }
   ],
   "source": [
    "# подается на вход классс, но имена и возраст в разных функциях\n",
    "# подается на вход классс\n",
    "from jinja2 import Template\n",
    "#------------------------------------\n",
    "per = {'name' : 'Маркус', 'age' : 5}\n",
    "        \n",
    "\n",
    "tm = Template(\"Мне {{ p.age }} лет и зовут меня {{ p.name }}\")\n",
    "msg = tm.render(p = per)\n",
    "\n",
    "print(msg)\n"
   ]
  }
 ],
 "metadata": {
  "kernelspec": {
   "display_name": "Python 3",
   "language": "python",
   "name": "python3"
  },
  "language_info": {
   "codemirror_mode": {
    "name": "ipython",
    "version": 3
   },
   "file_extension": ".py",
   "mimetype": "text/x-python",
   "name": "python",
   "nbconvert_exporter": "python",
   "pygments_lexer": "ipython3",
   "version": "3.11.10"
  }
 },
 "nbformat": 4,
 "nbformat_minor": 2
}

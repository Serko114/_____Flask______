{
 "cells": [
  {
   "cell_type": "markdown",
   "metadata": {},
   "source": [
    "# **1. Фильтры**"
   ]
  },
  {
   "cell_type": "markdown",
   "metadata": {},
   "source": [
    "1.1 Сумма"
   ]
  },
  {
   "cell_type": "code",
   "execution_count": 24,
   "metadata": {},
   "outputs": [
    {
     "name": "stdout",
     "output_type": "stream",
     "text": [
      "Сумма богатых людей 5600\n"
     ]
    }
   ],
   "source": [
    "from jinja2 import Template\n",
    "#------------------------------------\n",
    "people = [{'city':'Moscow','id':500, },\n",
    "          {'city':'Kiev', 'id':800, },\n",
    "          {'city':'Tver', 'id':300, },\n",
    "          {'city':'Lvov', 'id':4000, } ]\n",
    "\n",
    "\n",
    "\n",
    "tpl = \"Сумма богатых людей {{ cs | sum(attribute='id')}}\"\n",
    "\n",
    "tm = Template(tpl)\n",
    "\n",
    "msg = tm.render(cs = people)\n",
    "\n",
    "print(msg)\n"
   ]
  },
  {
   "cell_type": "code",
   "execution_count": 25,
   "metadata": {},
   "outputs": [
    {
     "name": "stdout",
     "output_type": "stream",
     "text": [
      "Сумма богатых людей 171\n"
     ]
    }
   ],
   "source": [
    "lst =[34,44,12,81]\n",
    "\n",
    "tpl = \"Сумма богатых людей {{ cs | sum}}\"\n",
    "\n",
    "tm = Template(tpl)\n",
    "\n",
    "msg = tm.render(cs = lst)\n",
    "\n",
    "print(msg)\n"
   ]
  },
  {
   "cell_type": "markdown",
   "metadata": {},
   "source": [
    "1.2 Max число из списка"
   ]
  },
  {
   "cell_type": "code",
   "execution_count": 26,
   "metadata": {},
   "outputs": [
    {
     "name": "stdout",
     "output_type": "stream",
     "text": [
      "Сумма богатых людей {'city': 'Lvov', 'id': 4000}\n"
     ]
    }
   ],
   "source": [
    "people = [{'city':'Moscow','id':500, },\n",
    "          {'city':'Kiev', 'id':800, },\n",
    "          {'city':'Tver', 'id':300, },\n",
    "          {'city':'Lvov', 'id':4000, } ]\n",
    "\n",
    "tpl = \"Сумма богатых людей {{ cs | max(attribute='id')}}\"\n",
    "\n",
    "tm = Template(tpl)\n",
    "\n",
    "msg = tm.render(cs = people)\n",
    "\n",
    "print(msg)"
   ]
  },
  {
   "cell_type": "code",
   "execution_count": 27,
   "metadata": {},
   "outputs": [
    {
     "name": "stdout",
     "output_type": "stream",
     "text": [
      "Больше всего богатых в Lvov\n"
     ]
    }
   ],
   "source": [
    "people = [{'city':'Moscow','id':500, },\n",
    "          {'city':'Kiev', 'id':800, },\n",
    "          {'city':'Tver', 'id':300, },\n",
    "          {'city':'Lvov', 'id':4000, } ]\n",
    "\n",
    "lst =[34,44,12,81]\n",
    "\n",
    "\n",
    "tpl = \"Больше всего богатых в {{ (cs | max(attribute='id')).city }}\"\n",
    "\n",
    "tm = Template(tpl)\n",
    "\n",
    "msg = tm.render(cs = people)\n",
    "\n",
    "print(msg)"
   ]
  },
  {
   "cell_type": "markdown",
   "metadata": {},
   "source": [
    "1.3 Замена символов"
   ]
  },
  {
   "cell_type": "code",
   "execution_count": 23,
   "metadata": {},
   "outputs": [
    {
     "name": "stdout",
     "output_type": "stream",
     "text": [
      "Больше всего богатых в [{'city': 'MOscOw', 'id': 500}, {'city': 'Kiev', 'id': 800}, {'city': 'Tver', 'id': 300}, {'city': 'LvOv', 'id': 4000}]\n"
     ]
    }
   ],
   "source": [
    "people = [{'city':'Moscow','id':500, },\n",
    "          {'city':'Kiev', 'id':800, },\n",
    "          {'city':'Tver', 'id':300, },\n",
    "          {'city':'Lvov', 'id':4000, } ]\n",
    "\n",
    "lst =[34,44,12,81]\n",
    "\n",
    "tpl = \"Больше всего богатых в {{ cs | replace('o','O') }}\"\n",
    "tm = Template(tpl)\n",
    "msg = tm.render(cs = people)\n",
    "\n",
    "print(msg)"
   ]
  },
  {
   "cell_type": "code",
   "execution_count": 29,
   "metadata": {},
   "outputs": [
    {
     "name": "stdout",
     "output_type": "stream",
     "text": [
      "АЛЕКСЕЙ\n",
      "КОНСТАНТИН\n",
      "ИВАН\n",
      "\n"
     ]
    }
   ],
   "source": [
    "people = [{'name':'Алексей','old':18, 'weight': 78.5},\n",
    "          {'name':'Константин', 'old':28, 'weight': 82.3},\n",
    "          {'name':'Иван', 'old':33, 'weight': 94.0} ]\n",
    "\n",
    "\n",
    "tpl = '''\n",
    "{%- for u in users -%}\n",
    "{% filter upper %}{{u.name}}{% endfilter %}\n",
    "{% endfor -%}\n",
    "'''\n",
    "\n",
    "tm = Template(tpl)\n",
    "msg = tm.render(users = people)\n",
    "\n",
    "print(msg)"
   ]
  },
  {
   "cell_type": "markdown",
   "metadata": {},
   "source": [
    "# **2. Макроопределение**"
   ]
  },
  {
   "cell_type": "code",
   "execution_count": 31,
   "metadata": {},
   "outputs": [
    {
     "name": "stdout",
     "output_type": "stream",
     "text": [
      "\n",
      "\n",
      "\n",
      "<p><input type=\"text\" name=\"username\" value=\"\" size=\"20\">\n",
      "<p><input type=\"text\" name=\"email\" value=\"\" size=\"20\">\n",
      "<p><input type=\"text\" name=\"password\" value=\"\" size=\"20\">\n"
     ]
    }
   ],
   "source": [
    "people = [{'name':'Алексей','old':18, 'weight': 78.5},\n",
    "          {'name':'Константин', 'old':28, 'weight': 82.3},\n",
    "          {'name':'Иван', 'old':33, 'weight': 94.0} ]\n",
    "\n",
    "html = '''\n",
    "{% macro input(name, value='', type='text', size=20) -%}\n",
    "    <input type=\"{{ type}}\" name=\"{{ name }}\" value=\"{{ value|e }}\" size=\"{{ size }}\">\n",
    "{%- endmacro %}\n",
    "\n",
    "<p>{{ input('username') }}\n",
    "<p>{{ input('email') }}\n",
    "<p>{{ input('password') }}\n",
    "'''\n",
    "\n",
    "tm = Template(html)\n",
    "msg = tm.render(users = people)\n",
    "\n",
    "print(msg)"
   ]
  },
  {
   "cell_type": "markdown",
   "metadata": {},
   "source": [
    "# **3. Вложенные макросы CALL**"
   ]
  },
  {
   "cell_type": "code",
   "execution_count": 37,
   "metadata": {},
   "outputs": [
    {
     "name": "stdout",
     "output_type": "stream",
     "text": [
      "\n",
      "\n",
      "\n",
      "<ul>\n",
      "<li>Алексей \n",
      "    <ul>\n",
      "    <li>age: 18\n",
      "    <li>weight: 78.5\n",
      "    </ul>\n",
      "<li>Константин \n",
      "    <ul>\n",
      "    <li>age: 28\n",
      "    <li>weight: 82.3\n",
      "    </ul>\n",
      "<li>Иван \n",
      "    <ul>\n",
      "    <li>age: 33\n",
      "    <li>weight: 94.0\n",
      "    </ul>\n",
      "\n",
      "</ul>\n"
     ]
    }
   ],
   "source": [
    "people = [{'name':'Алексей','old':18, 'weight': 78.5},\n",
    "          {'name':'Константин', 'old':28, 'weight': 82.3},\n",
    "          {'name':'Иван', 'old':33, 'weight': 94.0} ]\n",
    "\n",
    "html = '''\n",
    "{% macro list_users(list_of_user) -%}\n",
    "<ul>\n",
    "{% for u in list_of_user -%}\n",
    "    <li>{{u.name}} {{caller(u)}}\n",
    "{%- endfor %}\n",
    "</ul>\n",
    "{%- endmacro %}\n",
    "\n",
    "{% call(user) list_users(users) %}\n",
    "    <ul>\n",
    "    <li>age: {{user.old}}\n",
    "    <li>weight: {{user.weight}}\n",
    "    </ul>\n",
    "{% endcall -%}\n",
    "'''\n",
    "\n",
    "tm = Template(html)\n",
    "msg = tm.render(users = people)\n",
    "\n",
    "print(msg)"
   ]
  },
  {
   "cell_type": "code",
   "execution_count": null,
   "metadata": {},
   "outputs": [],
   "source": []
  }
 ],
 "metadata": {
  "kernelspec": {
   "display_name": "Python 3",
   "language": "python",
   "name": "python3"
  },
  "language_info": {
   "codemirror_mode": {
    "name": "ipython",
    "version": 3
   },
   "file_extension": ".py",
   "mimetype": "text/x-python",
   "name": "python",
   "nbconvert_exporter": "python",
   "pygments_lexer": "ipython3",
   "version": "3.11.10"
  }
 },
 "nbformat": 4,
 "nbformat_minor": 2
}
